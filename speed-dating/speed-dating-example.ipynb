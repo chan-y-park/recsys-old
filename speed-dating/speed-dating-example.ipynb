{
 "cells": [
  {
   "cell_type": "markdown",
   "metadata": {},
   "source": [
    "# Interface between PostgreSQL DB and Pandas"
   ]
  },
  {
   "cell_type": "code",
   "execution_count": 2,
   "metadata": {
    "ExecuteTime": {
     "end_time": "2018-06-07T11:21:16.586643Z",
     "start_time": "2018-06-07T11:21:16.582565Z"
    }
   },
   "outputs": [],
   "source": [
    "import os"
   ]
  },
  {
   "cell_type": "code",
   "execution_count": 3,
   "metadata": {
    "ExecuteTime": {
     "end_time": "2018-06-07T11:21:17.013367Z",
     "start_time": "2018-06-07T11:21:17.009023Z"
    }
   },
   "outputs": [],
   "source": [
    "data_dir = '/home/chan/workspace/datasets/speed-dating/'\n",
    "data_file_path = os.path.join(data_dir, 'Speed Dating Data.csv')"
   ]
  },
  {
   "cell_type": "code",
   "execution_count": 6,
   "metadata": {
    "ExecuteTime": {
     "end_time": "2018-06-07T11:21:24.805710Z",
     "start_time": "2018-06-07T11:21:24.798632Z"
    }
   },
   "outputs": [],
   "source": [
    "import csv\n",
    "csv_file = open(data_file_path, 'r', encoding='latin_1')\n",
    "csv_reader = csv.DictReader(csv_file)"
   ]
  },
  {
   "cell_type": "code",
   "execution_count": 7,
   "metadata": {
    "ExecuteTime": {
     "end_time": "2018-06-07T11:21:26.009974Z",
     "start_time": "2018-06-07T11:21:26.002618Z"
    }
   },
   "outputs": [],
   "source": [
    "data_keys = {\n",
    "    \"iid\": \"INTEGER\",\n",
    "    \"gender\": \"INTEGER\",\n",
    "    \"round\": \"INTEGER\",\n",
    "    \"attr\": \"FLOAT\",\n",
    "    \"sinc\": \"FLOAT\",\n",
    "    \"intel\": \"FLOAT\",\n",
    "    \"fun\": \"FLOAT\",\n",
    "    \"amb\": \"FLOAT\",\n",
    "    \"dec\": \"FLOAT\",\n",
    "}"
   ]
  },
  {
   "cell_type": "code",
   "execution_count": 8,
   "metadata": {
    "ExecuteTime": {
     "end_time": "2018-06-07T11:21:26.982035Z",
     "start_time": "2018-06-07T11:21:26.961994Z"
    }
   },
   "outputs": [],
   "source": [
    "import psycopg2"
   ]
  },
  {
   "cell_type": "code",
   "execution_count": 15,
   "metadata": {
    "ExecuteTime": {
     "end_time": "2018-06-07T11:29:58.165534Z",
     "start_time": "2018-06-07T11:29:55.719083Z"
    }
   },
   "outputs": [],
   "source": [
    "ks = [k for k in data_keys.keys()]\n",
    "\n",
    "with psycopg2.connect(\"dbname=speed-dating user=chan\") as conn:\n",
    "    with conn.cursor() as cur:\n",
    "        cur.execute(\"DROP TABLE IF EXISTS data\")\n",
    "        cur.execute(\n",
    "            \"CREATE TABLE data (obs_id SERIAL PRIMARY KEY, {});\"\n",
    "            .format(\n",
    "                ', '.join(\n",
    "                    ['{} {}'.format(k, v) for k, v in data_keys.items()]\n",
    "                )\n",
    "            )\n",
    "        )\n",
    "        for an_obs in csv_reader:\n",
    "            cur.execute(\n",
    "                \"INSERT INTO data ({}) VALUES ({});\"\n",
    "                .format(\n",
    "                    ', '.join(['{}'.format(k) for k in ks]),\n",
    "                    ', '.join(['%s'] * len(ks)),\n",
    "                ),\n",
    "                [an_obs[k] if an_obs[k] != '' else None for k in ks],\n",
    "            )\n",
    "\n",
    "        conn.commit()"
   ]
  },
  {
   "cell_type": "code",
   "execution_count": 16,
   "metadata": {
    "ExecuteTime": {
     "end_time": "2018-06-07T11:30:04.060727Z",
     "start_time": "2018-06-07T11:30:03.684510Z"
    }
   },
   "outputs": [],
   "source": [
    "import pandas as pd\n",
    "conn = psycopg2.connect(\"dbname=speed-dating user=chan\")\n",
    "df = pd.read_sql(\n",
    "    \"SELECT {} FROM data;\"\n",
    "    .format(\n",
    "        ', '.join(['{}'.format(k) for k in data_keys.keys()])\n",
    "    ),\n",
    "    conn\n",
    ")"
   ]
  },
  {
   "cell_type": "code",
   "execution_count": 17,
   "metadata": {
    "ExecuteTime": {
     "end_time": "2018-06-07T11:30:04.682717Z",
     "start_time": "2018-06-07T11:30:04.646382Z"
    }
   },
   "outputs": [
    {
     "data": {
      "text/html": [
       "<div>\n",
       "<style scoped>\n",
       "    .dataframe tbody tr th:only-of-type {\n",
       "        vertical-align: middle;\n",
       "    }\n",
       "\n",
       "    .dataframe tbody tr th {\n",
       "        vertical-align: top;\n",
       "    }\n",
       "\n",
       "    .dataframe thead th {\n",
       "        text-align: right;\n",
       "    }\n",
       "</style>\n",
       "<table border=\"1\" class=\"dataframe\">\n",
       "  <thead>\n",
       "    <tr style=\"text-align: right;\">\n",
       "      <th></th>\n",
       "      <th>obs_id</th>\n",
       "      <th>iid</th>\n",
       "      <th>gender</th>\n",
       "      <th>round</th>\n",
       "      <th>attr</th>\n",
       "      <th>sinc</th>\n",
       "      <th>intel</th>\n",
       "      <th>fun</th>\n",
       "      <th>amb</th>\n",
       "      <th>dec</th>\n",
       "    </tr>\n",
       "  </thead>\n",
       "  <tbody>\n",
       "    <tr>\n",
       "      <th>2152</th>\n",
       "      <td>2150</td>\n",
       "      <td>167</td>\n",
       "      <td>1</td>\n",
       "      <td>16</td>\n",
       "      <td>3.0</td>\n",
       "      <td>7.0</td>\n",
       "      <td>6.0</td>\n",
       "      <td>4.0</td>\n",
       "      <td>5.0</td>\n",
       "      <td>0.0</td>\n",
       "    </tr>\n",
       "    <tr>\n",
       "      <th>7808</th>\n",
       "      <td>7809</td>\n",
       "      <td>533</td>\n",
       "      <td>1</td>\n",
       "      <td>22</td>\n",
       "      <td>6.0</td>\n",
       "      <td>8.0</td>\n",
       "      <td>8.0</td>\n",
       "      <td>7.0</td>\n",
       "      <td>7.0</td>\n",
       "      <td>0.0</td>\n",
       "    </tr>\n",
       "    <tr>\n",
       "      <th>1632</th>\n",
       "      <td>1630</td>\n",
       "      <td>125</td>\n",
       "      <td>1</td>\n",
       "      <td>10</td>\n",
       "      <td>8.0</td>\n",
       "      <td>8.0</td>\n",
       "      <td>7.0</td>\n",
       "      <td>7.0</td>\n",
       "      <td>7.0</td>\n",
       "      <td>1.0</td>\n",
       "    </tr>\n",
       "    <tr>\n",
       "      <th>3479</th>\n",
       "      <td>3479</td>\n",
       "      <td>254</td>\n",
       "      <td>0</td>\n",
       "      <td>21</td>\n",
       "      <td>5.0</td>\n",
       "      <td>6.0</td>\n",
       "      <td>6.0</td>\n",
       "      <td>3.0</td>\n",
       "      <td>3.0</td>\n",
       "      <td>0.0</td>\n",
       "    </tr>\n",
       "    <tr>\n",
       "      <th>6619</th>\n",
       "      <td>6620</td>\n",
       "      <td>450</td>\n",
       "      <td>1</td>\n",
       "      <td>11</td>\n",
       "      <td>8.0</td>\n",
       "      <td>10.0</td>\n",
       "      <td>10.0</td>\n",
       "      <td>7.0</td>\n",
       "      <td>9.0</td>\n",
       "      <td>0.0</td>\n",
       "    </tr>\n",
       "    <tr>\n",
       "      <th>7855</th>\n",
       "      <td>7856</td>\n",
       "      <td>535</td>\n",
       "      <td>1</td>\n",
       "      <td>22</td>\n",
       "      <td>NaN</td>\n",
       "      <td>NaN</td>\n",
       "      <td>NaN</td>\n",
       "      <td>NaN</td>\n",
       "      <td>NaN</td>\n",
       "      <td>0.0</td>\n",
       "    </tr>\n",
       "    <tr>\n",
       "      <th>19</th>\n",
       "      <td>20</td>\n",
       "      <td>17</td>\n",
       "      <td>1</td>\n",
       "      <td>10</td>\n",
       "      <td>6.0</td>\n",
       "      <td>4.0</td>\n",
       "      <td>7.0</td>\n",
       "      <td>5.0</td>\n",
       "      <td>6.0</td>\n",
       "      <td>0.0</td>\n",
       "    </tr>\n",
       "    <tr>\n",
       "      <th>3791</th>\n",
       "      <td>3791</td>\n",
       "      <td>269</td>\n",
       "      <td>0</td>\n",
       "      <td>21</td>\n",
       "      <td>6.0</td>\n",
       "      <td>8.0</td>\n",
       "      <td>8.0</td>\n",
       "      <td>7.0</td>\n",
       "      <td>7.0</td>\n",
       "      <td>0.0</td>\n",
       "    </tr>\n",
       "    <tr>\n",
       "      <th>5963</th>\n",
       "      <td>5964</td>\n",
       "      <td>398</td>\n",
       "      <td>1</td>\n",
       "      <td>18</td>\n",
       "      <td>5.0</td>\n",
       "      <td>8.0</td>\n",
       "      <td>7.0</td>\n",
       "      <td>4.0</td>\n",
       "      <td>NaN</td>\n",
       "      <td>0.0</td>\n",
       "    </tr>\n",
       "    <tr>\n",
       "      <th>6636</th>\n",
       "      <td>6637</td>\n",
       "      <td>452</td>\n",
       "      <td>1</td>\n",
       "      <td>11</td>\n",
       "      <td>6.0</td>\n",
       "      <td>8.0</td>\n",
       "      <td>7.0</td>\n",
       "      <td>6.0</td>\n",
       "      <td>6.0</td>\n",
       "      <td>1.0</td>\n",
       "    </tr>\n",
       "  </tbody>\n",
       "</table>\n",
       "</div>"
      ],
      "text/plain": [
       "      obs_id  iid  gender  round  attr  sinc  intel  fun  amb  dec\n",
       "2152    2150  167       1     16   3.0   7.0    6.0  4.0  5.0  0.0\n",
       "7808    7809  533       1     22   6.0   8.0    8.0  7.0  7.0  0.0\n",
       "1632    1630  125       1     10   8.0   8.0    7.0  7.0  7.0  1.0\n",
       "3479    3479  254       0     21   5.0   6.0    6.0  3.0  3.0  0.0\n",
       "6619    6620  450       1     11   8.0  10.0   10.0  7.0  9.0  0.0\n",
       "7855    7856  535       1     22   NaN   NaN    NaN  NaN  NaN  0.0\n",
       "19        20   17       1     10   6.0   4.0    7.0  5.0  6.0  0.0\n",
       "3791    3791  269       0     21   6.0   8.0    8.0  7.0  7.0  0.0\n",
       "5963    5964  398       1     18   5.0   8.0    7.0  4.0  NaN  0.0\n",
       "6636    6637  452       1     11   6.0   8.0    7.0  6.0  6.0  1.0"
      ]
     },
     "execution_count": 17,
     "metadata": {},
     "output_type": "execute_result"
    }
   ],
   "source": [
    "df.sample(10)"
   ]
  },
  {
   "cell_type": "code",
   "execution_count": 19,
   "metadata": {
    "ExecuteTime": {
     "end_time": "2018-06-07T11:30:39.200616Z",
     "start_time": "2018-06-07T11:30:39.185248Z"
    }
   },
   "outputs": [
    {
     "data": {
      "text/plain": [
       "(815, 10)"
      ]
     },
     "execution_count": 19,
     "metadata": {},
     "output_type": "execute_result"
    }
   ],
   "source": [
    "df[\n",
    "    pd.isna(df['attr'])\n",
    "    | pd.isna(df['intel'])\n",
    "    | pd.isna(df['amb'])\n",
    "    | pd.isna(df['sinc'])\n",
    "    | pd.isna(df['fun'])\n",
    "].shape"
   ]
  },
  {
   "cell_type": "code",
   "execution_count": 20,
   "metadata": {
    "ExecuteTime": {
     "end_time": "2018-06-07T11:35:03.303485Z",
     "start_time": "2018-06-07T11:35:03.289647Z"
    }
   },
   "outputs": [],
   "source": [
    "attributes = ['attr', 'intel', 'amb', 'sinc', 'fun']\n",
    "df = df.dropna(axis='index', subset=attributes)"
   ]
  },
  {
   "cell_type": "markdown",
   "metadata": {},
   "source": [
    "# Simple models"
   ]
  },
  {
   "cell_type": "code",
   "execution_count": 21,
   "metadata": {
    "ExecuteTime": {
     "end_time": "2018-06-07T11:35:46.926124Z",
     "start_time": "2018-06-07T11:35:46.909088Z"
    }
   },
   "outputs": [],
   "source": [
    "X_f = df[df['gender'] == 0][['iid', 'round'] + attributes]\n",
    "y_f = df[df['gender'] == 0]['dec']\n",
    "\n",
    "X_m = df[df['gender'] == 1][['iid', 'round'] + attributes]\n",
    "y_m = df[df['gender'] == 1]['dec']"
   ]
  },
  {
   "cell_type": "code",
   "execution_count": 22,
   "metadata": {
    "ExecuteTime": {
     "end_time": "2018-06-07T11:36:33.103439Z",
     "start_time": "2018-06-07T11:36:33.047910Z"
    }
   },
   "outputs": [],
   "source": [
    "X_f['sample_weight'] = 1 / X_f['round']\n",
    "X_m['sample_weight'] = 1 / X_m['round']"
   ]
  },
  {
   "cell_type": "code",
   "execution_count": 36,
   "metadata": {
    "ExecuteTime": {
     "end_time": "2018-06-07T11:38:28.936837Z",
     "start_time": "2018-06-07T11:38:28.931483Z"
    }
   },
   "outputs": [],
   "source": [
    "import numpy as np\n",
    "import sklearn\n",
    "from sklearn import model_selection\n",
    "from sklearn import linear_model"
   ]
  },
  {
   "cell_type": "markdown",
   "metadata": {},
   "source": [
    "## A simple linear regression\n",
    "\n",
    "Here we perform a very simple regression to estimate the decision according to p.682 of http://faculty.chicagobooth.edu/emir.kamenica/documents/genderDifferences.pdf"
   ]
  },
  {
   "cell_type": "markdown",
   "metadata": {},
   "source": [
    "### Female, gender == 0"
   ]
  },
  {
   "cell_type": "code",
   "execution_count": 26,
   "metadata": {
    "ExecuteTime": {
     "end_time": "2018-06-07T11:37:25.562411Z",
     "start_time": "2018-06-07T11:37:25.552994Z"
    }
   },
   "outputs": [],
   "source": [
    "X_train, X_test, y_train, y_test = model_selection.train_test_split(X_f, y_f, test_size=0.25)"
   ]
  },
  {
   "cell_type": "code",
   "execution_count": 29,
   "metadata": {
    "ExecuteTime": {
     "end_time": "2018-06-07T11:37:46.727995Z",
     "start_time": "2018-06-07T11:37:46.723544Z"
    }
   },
   "outputs": [],
   "source": [
    "reg = linear_model.LinearRegression()"
   ]
  },
  {
   "cell_type": "code",
   "execution_count": 33,
   "metadata": {
    "ExecuteTime": {
     "end_time": "2018-06-07T11:38:14.085517Z",
     "start_time": "2018-06-07T11:38:14.072983Z"
    }
   },
   "outputs": [
    {
     "data": {
      "text/plain": [
       "LinearRegression(copy_X=True, fit_intercept=True, n_jobs=1, normalize=False)"
      ]
     },
     "execution_count": 33,
     "metadata": {},
     "output_type": "execute_result"
    }
   ],
   "source": [
    "reg.fit(X_train[attributes], y_train)"
   ]
  },
  {
   "cell_type": "code",
   "execution_count": 34,
   "metadata": {
    "ExecuteTime": {
     "end_time": "2018-06-07T11:38:15.048275Z",
     "start_time": "2018-06-07T11:38:15.041480Z"
    }
   },
   "outputs": [
    {
     "data": {
      "text/plain": [
       "array([ 0.07621334,  0.01851753, -0.01172092, -0.01213269,  0.05510978])"
      ]
     },
     "execution_count": 34,
     "metadata": {},
     "output_type": "execute_result"
    }
   ],
   "source": [
    "reg.coef_"
   ]
  },
  {
   "cell_type": "code",
   "execution_count": 37,
   "metadata": {
    "ExecuteTime": {
     "end_time": "2018-06-07T11:38:31.619864Z",
     "start_time": "2018-06-07T11:38:31.613110Z"
    }
   },
   "outputs": [],
   "source": [
    "y_pred = np.heaviside(reg.predict(X_test[attributes]), 0.5)"
   ]
  },
  {
   "cell_type": "code",
   "execution_count": 38,
   "metadata": {
    "ExecuteTime": {
     "end_time": "2018-06-07T11:38:32.464486Z",
     "start_time": "2018-06-07T11:38:32.456903Z"
    }
   },
   "outputs": [
    {
     "data": {
      "text/plain": [
       "0.5639344262295082"
      ]
     },
     "execution_count": 38,
     "metadata": {},
     "output_type": "execute_result"
    }
   ],
   "source": [
    "sklearn.metrics.mean_squared_error(y_test, y_pred)"
   ]
  },
  {
   "cell_type": "markdown",
   "metadata": {},
   "source": [
    "### Male, gender == 1"
   ]
  },
  {
   "cell_type": "code",
   "execution_count": 43,
   "metadata": {
    "ExecuteTime": {
     "end_time": "2018-06-07T11:39:54.169579Z",
     "start_time": "2018-06-07T11:39:54.160759Z"
    }
   },
   "outputs": [],
   "source": [
    "X_train, X_test, y_train, y_test = model_selection.train_test_split(X_m, y_m, test_size=0.25)"
   ]
  },
  {
   "cell_type": "code",
   "execution_count": 41,
   "metadata": {
    "ExecuteTime": {
     "end_time": "2018-06-07T11:38:59.711453Z",
     "start_time": "2018-06-07T11:38:59.699779Z"
    }
   },
   "outputs": [
    {
     "data": {
      "text/plain": [
       "array([ 0.11908156, -0.00253862, -0.01297444, -0.02325008,  0.05950302])"
      ]
     },
     "execution_count": 41,
     "metadata": {},
     "output_type": "execute_result"
    }
   ],
   "source": [
    "reg = linear_model.LinearRegression()\n",
    "reg.fit(X_train[attributes], y_train)\n",
    "reg.coef_"
   ]
  },
  {
   "cell_type": "code",
   "execution_count": 42,
   "metadata": {
    "ExecuteTime": {
     "end_time": "2018-06-07T11:39:13.723789Z",
     "start_time": "2018-06-07T11:39:13.713560Z"
    }
   },
   "outputs": [
    {
     "data": {
      "text/plain": [
       "0.48136315228966986"
      ]
     },
     "execution_count": 42,
     "metadata": {},
     "output_type": "execute_result"
    }
   ],
   "source": [
    "y_pred = np.heaviside(reg.predict(X_test[attributes]), 0.5)\n",
    "\n",
    "sklearn.metrics.mean_squared_error(y_test, y_pred)"
   ]
  },
  {
   "cell_type": "markdown",
   "metadata": {},
   "source": [
    "## Logistic regression"
   ]
  },
  {
   "cell_type": "markdown",
   "metadata": {},
   "source": [
    "### Female"
   ]
  },
  {
   "cell_type": "code",
   "execution_count": 44,
   "metadata": {
    "ExecuteTime": {
     "end_time": "2018-06-07T11:40:03.461743Z",
     "start_time": "2018-06-07T11:40:03.451675Z"
    }
   },
   "outputs": [],
   "source": [
    "X_train, X_test, y_train, y_test = model_selection.train_test_split(X_f, y_f, test_size=0.25)"
   ]
  },
  {
   "cell_type": "markdown",
   "metadata": {},
   "source": [
    "## No sample weight"
   ]
  },
  {
   "cell_type": "code",
   "execution_count": 45,
   "metadata": {
    "ExecuteTime": {
     "end_time": "2018-06-07T11:40:17.244568Z",
     "start_time": "2018-06-07T11:40:17.222261Z"
    }
   },
   "outputs": [
    {
     "data": {
      "text/plain": [
       "array([[ 0.4376902 ,  0.12893254, -0.13773595, -0.08615458,  0.41068   ]])"
      ]
     },
     "execution_count": 45,
     "metadata": {},
     "output_type": "execute_result"
    }
   ],
   "source": [
    "lrc = linear_model.LogisticRegression(class_weight='balanced')\n",
    "lrc.fit(X_train[attributes], y_train)\n",
    "lrc.coef_"
   ]
  },
  {
   "cell_type": "code",
   "execution_count": 46,
   "metadata": {
    "ExecuteTime": {
     "end_time": "2018-06-07T11:40:27.148880Z",
     "start_time": "2018-06-07T11:40:27.138035Z"
    }
   },
   "outputs": [
    {
     "data": {
      "text/plain": [
       "0.28743169398907104"
      ]
     },
     "execution_count": 46,
     "metadata": {},
     "output_type": "execute_result"
    }
   ],
   "source": [
    "y_pred = lrc.predict(X_test[attributes])\n",
    "sklearn.metrics.mean_squared_error(y_test, y_pred)"
   ]
  },
  {
   "cell_type": "markdown",
   "metadata": {},
   "source": [
    "## With sample weight"
   ]
  },
  {
   "cell_type": "code",
   "execution_count": 48,
   "metadata": {
    "ExecuteTime": {
     "end_time": "2018-06-07T11:41:07.763548Z",
     "start_time": "2018-06-07T11:41:07.741677Z"
    }
   },
   "outputs": [
    {
     "data": {
      "text/plain": [
       "array([[ 0.34195099,  0.00260929, -0.1658326 , -0.11679748,  0.36857687]])"
      ]
     },
     "execution_count": 48,
     "metadata": {},
     "output_type": "execute_result"
    }
   ],
   "source": [
    "lrc = linear_model.LogisticRegression(class_weight='balanced')\n",
    "lrc.fit(X_train[attributes], y_train, sample_weight=X_train['sample_weight'])\n",
    "lrc.coef_"
   ]
  },
  {
   "cell_type": "code",
   "execution_count": 49,
   "metadata": {
    "ExecuteTime": {
     "end_time": "2018-06-07T11:41:20.541012Z",
     "start_time": "2018-06-07T11:41:20.531072Z"
    }
   },
   "outputs": [
    {
     "data": {
      "text/plain": [
       "0.3092896174863388"
      ]
     },
     "execution_count": 49,
     "metadata": {},
     "output_type": "execute_result"
    }
   ],
   "source": [
    "y_pred = lrc.predict(X_test[attributes])\n",
    "sklearn.metrics.mean_squared_error(y_test, y_pred)"
   ]
  },
  {
   "cell_type": "markdown",
   "metadata": {},
   "source": [
    "## Male"
   ]
  },
  {
   "cell_type": "code",
   "execution_count": 50,
   "metadata": {
    "ExecuteTime": {
     "end_time": "2018-06-07T11:41:28.270998Z",
     "start_time": "2018-06-07T11:41:28.262138Z"
    }
   },
   "outputs": [],
   "source": [
    "X_train, X_test, y_train, y_test = sklearn.model_selection.train_test_split(X_m, y_m, test_size=0.25)"
   ]
  },
  {
   "cell_type": "markdown",
   "metadata": {},
   "source": [
    "## No sample weight"
   ]
  },
  {
   "cell_type": "code",
   "execution_count": 51,
   "metadata": {
    "ExecuteTime": {
     "end_time": "2018-06-07T11:41:35.454960Z",
     "start_time": "2018-06-07T11:41:35.433415Z"
    }
   },
   "outputs": [
    {
     "data": {
      "text/plain": [
       "array([[ 0.65983461, -0.06312565, -0.08619471, -0.14891546,  0.36892042]])"
      ]
     },
     "execution_count": 51,
     "metadata": {},
     "output_type": "execute_result"
    }
   ],
   "source": [
    "lrc = linear_model.LogisticRegression(class_weight='balanced')\n",
    "lrc.fit(X_train[attributes], y_train)\n",
    "lrc.coef_"
   ]
  },
  {
   "cell_type": "code",
   "execution_count": 52,
   "metadata": {
    "ExecuteTime": {
     "end_time": "2018-06-07T11:41:41.094502Z",
     "start_time": "2018-06-07T11:41:41.084582Z"
    }
   },
   "outputs": [
    {
     "data": {
      "text/plain": [
       "0.24813631522896698"
      ]
     },
     "execution_count": 52,
     "metadata": {},
     "output_type": "execute_result"
    }
   ],
   "source": [
    "y_pred = lrc.predict(X_test[attributes])\n",
    "sklearn.metrics.mean_squared_error(y_test, y_pred)"
   ]
  },
  {
   "cell_type": "markdown",
   "metadata": {},
   "source": [
    "## With sample weight"
   ]
  },
  {
   "cell_type": "code",
   "execution_count": 53,
   "metadata": {
    "ExecuteTime": {
     "end_time": "2018-06-07T11:41:49.998199Z",
     "start_time": "2018-06-07T11:41:49.978139Z"
    }
   },
   "outputs": [
    {
     "data": {
      "text/plain": [
       "array([[ 0.57067604, -0.18369957, -0.09390644, -0.19735431,  0.32446958]])"
      ]
     },
     "execution_count": 53,
     "metadata": {},
     "output_type": "execute_result"
    }
   ],
   "source": [
    "lrc = linear_model.LogisticRegression(class_weight='balanced')\n",
    "lrc.fit(X_train[attributes], y_train, sample_weight=X_train['sample_weight'])\n",
    "lrc.coef_"
   ]
  },
  {
   "cell_type": "code",
   "execution_count": 54,
   "metadata": {
    "ExecuteTime": {
     "end_time": "2018-06-07T11:41:54.122060Z",
     "start_time": "2018-06-07T11:41:54.112318Z"
    }
   },
   "outputs": [
    {
     "data": {
      "text/plain": [
       "0.268370607028754"
      ]
     },
     "execution_count": 54,
     "metadata": {},
     "output_type": "execute_result"
    }
   ],
   "source": [
    "y_pred = lrc.predict(X_test[attributes])\n",
    "sklearn.metrics.mean_squared_error(y_test, y_pred)"
   ]
  }
 ],
 "metadata": {
  "kernelspec": {
   "display_name": "Python 3",
   "language": "python",
   "name": "python3"
  },
  "language_info": {
   "codemirror_mode": {
    "name": "ipython",
    "version": 3
   },
   "file_extension": ".py",
   "mimetype": "text/x-python",
   "name": "python",
   "nbconvert_exporter": "python",
   "pygments_lexer": "ipython3",
   "version": "3.6.5"
  }
 },
 "nbformat": 4,
 "nbformat_minor": 2
}
