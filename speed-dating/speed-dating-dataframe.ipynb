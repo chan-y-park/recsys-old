{
 "cells": [
  {
   "cell_type": "markdown",
   "metadata": {},
   "source": [
    "# Interface between PostgreSQL DB and Pandas"
   ]
  },
  {
   "cell_type": "code",
   "execution_count": 2,
   "metadata": {
    "ExecuteTime": {
     "end_time": "2018-06-07T11:21:16.586643Z",
     "start_time": "2018-06-07T11:21:16.582565Z"
    }
   },
   "outputs": [],
   "source": [
    "import os"
   ]
  },
  {
   "cell_type": "code",
   "execution_count": 3,
   "metadata": {
    "ExecuteTime": {
     "end_time": "2018-06-07T11:21:17.013367Z",
     "start_time": "2018-06-07T11:21:17.009023Z"
    }
   },
   "outputs": [],
   "source": [
    "data_dir = '/home/chan/workspace/datasets/speed-dating/'\n",
    "data_file_path = os.path.join(data_dir, 'Speed Dating Data.csv')"
   ]
  },
  {
   "cell_type": "code",
   "execution_count": 6,
   "metadata": {
    "ExecuteTime": {
     "end_time": "2018-06-07T11:21:24.805710Z",
     "start_time": "2018-06-07T11:21:24.798632Z"
    }
   },
   "outputs": [],
   "source": [
    "import csv\n",
    "csv_file = open(data_file_path, 'r', encoding='latin_1')\n",
    "csv_reader = csv.DictReader(csv_file)"
   ]
  },
  {
   "cell_type": "code",
   "execution_count": 7,
   "metadata": {
    "ExecuteTime": {
     "end_time": "2018-06-07T11:21:26.009974Z",
     "start_time": "2018-06-07T11:21:26.002618Z"
    }
   },
   "outputs": [],
   "source": [
    "data_keys = {\n",
    "    \"iid\": \"INTEGER\",\n",
    "    \"gender\": \"INTEGER\",\n",
    "    \"round\": \"INTEGER\",\n",
    "    \"attr\": \"FLOAT\",\n",
    "    \"sinc\": \"FLOAT\",\n",
    "    \"intel\": \"FLOAT\",\n",
    "    \"fun\": \"FLOAT\",\n",
    "    \"amb\": \"FLOAT\",\n",
    "    \"dec\": \"FLOAT\",\n",
    "}"
   ]
  },
  {
   "cell_type": "code",
   "execution_count": 8,
   "metadata": {
    "ExecuteTime": {
     "end_time": "2018-06-07T11:21:26.982035Z",
     "start_time": "2018-06-07T11:21:26.961994Z"
    }
   },
   "outputs": [],
   "source": [
    "import psycopg2"
   ]
  },
  {
   "cell_type": "code",
   "execution_count": 15,
   "metadata": {
    "ExecuteTime": {
     "end_time": "2018-06-07T11:29:58.165534Z",
     "start_time": "2018-06-07T11:29:55.719083Z"
    }
   },
   "outputs": [],
   "source": [
    "ks = [k for k in data_keys.keys()]\n",
    "\n",
    "with psycopg2.connect(\"dbname=speed-dating user=chan\") as conn:\n",
    "    with conn.cursor() as cur:\n",
    "        cur.execute(\"DROP TABLE IF EXISTS data\")\n",
    "        cur.execute(\n",
    "            \"CREATE TABLE data (obs_id SERIAL PRIMARY KEY, {});\"\n",
    "            .format(\n",
    "                ', '.join(\n",
    "                    ['{} {}'.format(k, v) for k, v in data_keys.items()]\n",
    "                )\n",
    "            )\n",
    "        )\n",
    "        for an_obs in csv_reader:\n",
    "            cur.execute(\n",
    "                \"INSERT INTO data ({}) VALUES ({});\"\n",
    "                .format(\n",
    "                    ', '.join(['{}'.format(k) for k in ks]),\n",
    "                    ', '.join(['%s'] * len(ks)),\n",
    "                ),\n",
    "                [an_obs[k] if an_obs[k] != '' else None for k in ks],\n",
    "            )\n",
    "\n",
    "        conn.commit()"
   ]
  },
  {
   "cell_type": "code",
   "execution_count": 16,
   "metadata": {
    "ExecuteTime": {
     "end_time": "2018-06-07T11:30:04.060727Z",
     "start_time": "2018-06-07T11:30:03.684510Z"
    }
   },
   "outputs": [],
   "source": [
    "import pandas as pd\n",
    "conn = psycopg2.connect(\"dbname=speed-dating user=chan\")\n",
    "df = pd.read_sql(\n",
    "    \"SELECT {} FROM data;\"\n",
    "    .format(\n",
    "        ', '.join(['{}'.format(k) for k in data_keys.keys()])\n",
    "    ),\n",
    "    conn\n",
    ")"
   ]
  },
  {
   "cell_type": "code",
   "execution_count": 17,
   "metadata": {
    "ExecuteTime": {
     "end_time": "2018-06-07T11:30:04.682717Z",
     "start_time": "2018-06-07T11:30:04.646382Z"
    }
   },
   "outputs": [
    {
     "data": {
      "text/html": [
       "<div>\n",
       "<style scoped>\n",
       "    .dataframe tbody tr th:only-of-type {\n",
       "        vertical-align: middle;\n",
       "    }\n",
       "\n",
       "    .dataframe tbody tr th {\n",
       "        vertical-align: top;\n",
       "    }\n",
       "\n",
       "    .dataframe thead th {\n",
       "        text-align: right;\n",
       "    }\n",
       "</style>\n",
       "<table border=\"1\" class=\"dataframe\">\n",
       "  <thead>\n",
       "    <tr style=\"text-align: right;\">\n",
       "      <th></th>\n",
       "      <th>obs_id</th>\n",
       "      <th>iid</th>\n",
       "      <th>gender</th>\n",
       "      <th>round</th>\n",
       "      <th>attr</th>\n",
       "      <th>sinc</th>\n",
       "      <th>intel</th>\n",
       "      <th>fun</th>\n",
       "      <th>amb</th>\n",
       "      <th>dec</th>\n",
       "    </tr>\n",
       "  </thead>\n",
       "  <tbody>\n",
       "    <tr>\n",
       "      <th>2152</th>\n",
       "      <td>2150</td>\n",
       "      <td>167</td>\n",
       "      <td>1</td>\n",
       "      <td>16</td>\n",
       "      <td>3.0</td>\n",
       "      <td>7.0</td>\n",
       "      <td>6.0</td>\n",
       "      <td>4.0</td>\n",
       "      <td>5.0</td>\n",
       "      <td>0.0</td>\n",
       "    </tr>\n",
       "    <tr>\n",
       "      <th>7808</th>\n",
       "      <td>7809</td>\n",
       "      <td>533</td>\n",
       "      <td>1</td>\n",
       "      <td>22</td>\n",
       "      <td>6.0</td>\n",
       "      <td>8.0</td>\n",
       "      <td>8.0</td>\n",
       "      <td>7.0</td>\n",
       "      <td>7.0</td>\n",
       "      <td>0.0</td>\n",
       "    </tr>\n",
       "    <tr>\n",
       "      <th>1632</th>\n",
       "      <td>1630</td>\n",
       "      <td>125</td>\n",
       "      <td>1</td>\n",
       "      <td>10</td>\n",
       "      <td>8.0</td>\n",
       "      <td>8.0</td>\n",
       "      <td>7.0</td>\n",
       "      <td>7.0</td>\n",
       "      <td>7.0</td>\n",
       "      <td>1.0</td>\n",
       "    </tr>\n",
       "    <tr>\n",
       "      <th>3479</th>\n",
       "      <td>3479</td>\n",
       "      <td>254</td>\n",
       "      <td>0</td>\n",
       "      <td>21</td>\n",
       "      <td>5.0</td>\n",
       "      <td>6.0</td>\n",
       "      <td>6.0</td>\n",
       "      <td>3.0</td>\n",
       "      <td>3.0</td>\n",
       "      <td>0.0</td>\n",
       "    </tr>\n",
       "    <tr>\n",
       "      <th>6619</th>\n",
       "      <td>6620</td>\n",
       "      <td>450</td>\n",
       "      <td>1</td>\n",
       "      <td>11</td>\n",
       "      <td>8.0</td>\n",
       "      <td>10.0</td>\n",
       "      <td>10.0</td>\n",
       "      <td>7.0</td>\n",
       "      <td>9.0</td>\n",
       "      <td>0.0</td>\n",
       "    </tr>\n",
       "    <tr>\n",
       "      <th>7855</th>\n",
       "      <td>7856</td>\n",
       "      <td>535</td>\n",
       "      <td>1</td>\n",
       "      <td>22</td>\n",
       "      <td>NaN</td>\n",
       "      <td>NaN</td>\n",
       "      <td>NaN</td>\n",
       "      <td>NaN</td>\n",
       "      <td>NaN</td>\n",
       "      <td>0.0</td>\n",
       "    </tr>\n",
       "    <tr>\n",
       "      <th>19</th>\n",
       "      <td>20</td>\n",
       "      <td>17</td>\n",
       "      <td>1</td>\n",
       "      <td>10</td>\n",
       "      <td>6.0</td>\n",
       "      <td>4.0</td>\n",
       "      <td>7.0</td>\n",
       "      <td>5.0</td>\n",
       "      <td>6.0</td>\n",
       "      <td>0.0</td>\n",
       "    </tr>\n",
       "    <tr>\n",
       "      <th>3791</th>\n",
       "      <td>3791</td>\n",
       "      <td>269</td>\n",
       "      <td>0</td>\n",
       "      <td>21</td>\n",
       "      <td>6.0</td>\n",
       "      <td>8.0</td>\n",
       "      <td>8.0</td>\n",
       "      <td>7.0</td>\n",
       "      <td>7.0</td>\n",
       "      <td>0.0</td>\n",
       "    </tr>\n",
       "    <tr>\n",
       "      <th>5963</th>\n",
       "      <td>5964</td>\n",
       "      <td>398</td>\n",
       "      <td>1</td>\n",
       "      <td>18</td>\n",
       "      <td>5.0</td>\n",
       "      <td>8.0</td>\n",
       "      <td>7.0</td>\n",
       "      <td>4.0</td>\n",
       "      <td>NaN</td>\n",
       "      <td>0.0</td>\n",
       "    </tr>\n",
       "    <tr>\n",
       "      <th>6636</th>\n",
       "      <td>6637</td>\n",
       "      <td>452</td>\n",
       "      <td>1</td>\n",
       "      <td>11</td>\n",
       "      <td>6.0</td>\n",
       "      <td>8.0</td>\n",
       "      <td>7.0</td>\n",
       "      <td>6.0</td>\n",
       "      <td>6.0</td>\n",
       "      <td>1.0</td>\n",
       "    </tr>\n",
       "  </tbody>\n",
       "</table>\n",
       "</div>"
      ],
      "text/plain": [
       "      obs_id  iid  gender  round  attr  sinc  intel  fun  amb  dec\n",
       "2152    2150  167       1     16   3.0   7.0    6.0  4.0  5.0  0.0\n",
       "7808    7809  533       1     22   6.0   8.0    8.0  7.0  7.0  0.0\n",
       "1632    1630  125       1     10   8.0   8.0    7.0  7.0  7.0  1.0\n",
       "3479    3479  254       0     21   5.0   6.0    6.0  3.0  3.0  0.0\n",
       "6619    6620  450       1     11   8.0  10.0   10.0  7.0  9.0  0.0\n",
       "7855    7856  535       1     22   NaN   NaN    NaN  NaN  NaN  0.0\n",
       "19        20   17       1     10   6.0   4.0    7.0  5.0  6.0  0.0\n",
       "3791    3791  269       0     21   6.0   8.0    8.0  7.0  7.0  0.0\n",
       "5963    5964  398       1     18   5.0   8.0    7.0  4.0  NaN  0.0\n",
       "6636    6637  452       1     11   6.0   8.0    7.0  6.0  6.0  1.0"
      ]
     },
     "execution_count": 17,
     "metadata": {},
     "output_type": "execute_result"
    }
   ],
   "source": [
    "df.sample(10)"
   ]
  },
  {
   "cell_type": "code",
   "execution_count": 19,
   "metadata": {
    "ExecuteTime": {
     "end_time": "2018-06-07T11:30:39.200616Z",
     "start_time": "2018-06-07T11:30:39.185248Z"
    }
   },
   "outputs": [
    {
     "data": {
      "text/plain": [
       "(815, 10)"
      ]
     },
     "execution_count": 19,
     "metadata": {},
     "output_type": "execute_result"
    }
   ],
   "source": [
    "df[\n",
    "    pd.isna(df['attr'])\n",
    "    | pd.isna(df['intel'])\n",
    "    | pd.isna(df['amb'])\n",
    "    | pd.isna(df['sinc'])\n",
    "    | pd.isna(df['fun'])\n",
    "].shape"
   ]
  },
  {
   "cell_type": "code",
   "execution_count": 20,
   "metadata": {
    "ExecuteTime": {
     "end_time": "2018-06-07T11:35:03.303485Z",
     "start_time": "2018-06-07T11:35:03.289647Z"
    }
   },
   "outputs": [],
   "source": [
    "attributes = ['attr', 'intel', 'amb', 'sinc', 'fun']\n",
    "df = df.dropna(axis='index', subset=attributes)"
   ]
  },
  {
   "cell_type": "markdown",
   "metadata": {},
   "source": [
    "# Simple models"
   ]
  },
  {
   "cell_type": "code",
   "execution_count": 21,
   "metadata": {
    "ExecuteTime": {
     "end_time": "2018-06-07T11:35:46.926124Z",
     "start_time": "2018-06-07T11:35:46.909088Z"
    }
   },
   "outputs": [],
   "source": [
    "X_f = df[df['gender'] == 0][['iid', 'round'] + attributes]\n",
    "y_f = df[df['gender'] == 0]['dec']\n",
    "\n",
    "X_m = df[df['gender'] == 1][['iid', 'round'] + attributes]\n",
    "y_m = df[df['gender'] == 1]['dec']"
   ]
  },
  {
   "cell_type": "code",
   "execution_count": 22,
   "metadata": {
    "ExecuteTime": {
     "end_time": "2018-06-07T11:36:33.103439Z",
     "start_time": "2018-06-07T11:36:33.047910Z"
    }
   },
   "outputs": [],
   "source": [
    "X_f['sample_weight'] = 1 / X_f['round']\n",
    "X_m['sample_weight'] = 1 / X_m['round']"
   ]
  },
  {
   "cell_type": "code",
   "execution_count": 36,
   "metadata": {
    "ExecuteTime": {
     "end_time": "2018-06-07T11:38:28.936837Z",
     "start_time": "2018-06-07T11:38:28.931483Z"
    }
   },
   "outputs": [],
   "source": [
    "import numpy as np\n",
    "import sklearn\n",
    "from sklearn import model_selection\n",
    "from sklearn import linear_model"
   ]
  },
  {
   "cell_type": "markdown",
   "metadata": {},
   "source": [
    "## A simple linear regression\n",
    "\n",
    "Here we perform a very simple regression to estimate the decision according to p.682 of http://faculty.chicagobooth.edu/emir.kamenica/documents/genderDifferences.pdf"
   ]
  },
  {
   "cell_type": "markdown",
   "metadata": {},
   "source": [
    "### Female, gender == 0"
   ]
  },
  {
   "cell_type": "code",
   "execution_count": 26,
   "metadata": {
    "ExecuteTime": {
     "end_time": "2018-06-07T11:37:25.562411Z",
     "start_time": "2018-06-07T11:37:25.552994Z"
    }
   },
   "outputs": [],
   "source": [
    "X_train, X_test, y_train, y_test = model_selection.train_test_split(X_f, y_f, test_size=0.25)"
   ]
  },
  {
   "cell_type": "code",
   "execution_count": 29,
   "metadata": {
    "ExecuteTime": {
     "end_time": "2018-06-07T11:37:46.727995Z",
     "start_time": "2018-06-07T11:37:46.723544Z"
    }
   },
   "outputs": [],
   "source": [
    "reg = linear_model.LinearRegression()"
   ]
  },
  {
   "cell_type": "code",
   "execution_count": 33,
   "metadata": {
    "ExecuteTime": {
     "end_time": "2018-06-07T11:38:14.085517Z",
     "start_time": "2018-06-07T11:38:14.072983Z"
    }
   },
   "outputs": [
    {
     "data": {
      "text/plain": [
       "LinearRegression(copy_X=True, fit_intercept=True, n_jobs=1, normalize=False)"
      ]
     },
     "execution_count": 33,
     "metadata": {},
     "output_type": "execute_result"
    }
   ],
   "source": [
    "reg.fit(X_train[attributes], y_train)"
   ]
  },
  {
   "cell_type": "code",
   "execution_count": 34,
   "metadata": {
    "ExecuteTime": {
     "end_time": "2018-06-07T11:38:15.048275Z",
     "start_time": "2018-06-07T11:38:15.041480Z"
    }
   },
   "outputs": [
    {
     "data": {
      "text/plain": [
       "array([ 0.07621334,  0.01851753, -0.01172092, -0.01213269,  0.05510978])"
      ]
     },
     "execution_count": 34,
     "metadata": {},
     "output_type": "execute_result"
    }
   ],
   "source": [
    "reg.coef_"
   ]
  },
  {
   "cell_type": "code",
   "execution_count": 37,
   "metadata": {
    "ExecuteTime": {
     "end_time": "2018-06-07T11:38:31.619864Z",
     "start_time": "2018-06-07T11:38:31.613110Z"
    }
   },
   "outputs": [],
   "source": [
    "y_pred = np.heaviside(reg.predict(X_test[attributes]), 0.5)"
   ]
  },
  {
   "cell_type": "code",
   "execution_count": 38,
   "metadata": {
    "ExecuteTime": {
     "end_time": "2018-06-07T11:38:32.464486Z",
     "start_time": "2018-06-07T11:38:32.456903Z"
    }
   },
   "outputs": [
    {
     "data": {
      "text/plain": [
       "0.5639344262295082"
      ]
     },
     "execution_count": 38,
     "metadata": {},
     "output_type": "execute_result"
    }
   ],
   "source": [
    "sklearn.metrics.mean_squared_error(y_test, y_pred)"
   ]
  },
  {
   "cell_type": "markdown",
   "metadata": {},
   "source": [
    "### Male, gender == 1"
   ]
  },
  {
   "cell_type": "code",
   "execution_count": 43,
   "metadata": {
    "ExecuteTime": {
     "end_time": "2018-06-07T11:39:54.169579Z",
     "start_time": "2018-06-07T11:39:54.160759Z"
    }
   },
   "outputs": [],
   "source": [
    "X_train, X_test, y_train, y_test = model_selection.train_test_split(X_m, y_m, test_size=0.25)"
   ]
  },
  {
   "cell_type": "code",
   "execution_count": 41,
   "metadata": {
    "ExecuteTime": {
     "end_time": "2018-06-07T11:38:59.711453Z",
     "start_time": "2018-06-07T11:38:59.699779Z"
    }
   },
   "outputs": [
    {
     "data": {
      "text/plain": [
       "array([ 0.11908156, -0.00253862, -0.01297444, -0.02325008,  0.05950302])"
      ]
     },
     "execution_count": 41,
     "metadata": {},
     "output_type": "execute_result"
    }
   ],
   "source": [
    "reg = linear_model.LinearRegression()\n",
    "reg.fit(X_train[attributes], y_train)\n",
    "reg.coef_"
   ]
  },
  {
   "cell_type": "code",
   "execution_count": 42,
   "metadata": {
    "ExecuteTime": {
     "end_time": "2018-06-07T11:39:13.723789Z",
     "start_time": "2018-06-07T11:39:13.713560Z"
    }
   },
   "outputs": [
    {
     "data": {
      "text/plain": [
       "0.48136315228966986"
      ]
     },
     "execution_count": 42,
     "metadata": {},
     "output_type": "execute_result"
    }
   ],
   "source": [
    "y_pred = np.heaviside(reg.predict(X_test[attributes]), 0.5)\n",
    "\n",
    "sklearn.metrics.mean_squared_error(y_test, y_pred)"
   ]
  },
  {
   "cell_type": "markdown",
   "metadata": {},
   "source": [
    "## Logistic regression"
   ]
  },
  {
   "cell_type": "markdown",
   "metadata": {},
   "source": [
    "### Female"
   ]
  },
  {
   "cell_type": "code",
   "execution_count": 44,
   "metadata": {
    "ExecuteTime": {
     "end_time": "2018-06-07T11:40:03.461743Z",
     "start_time": "2018-06-07T11:40:03.451675Z"
    }
   },
   "outputs": [],
   "source": [
    "X_train, X_test, y_train, y_test = model_selection.train_test_split(X_f, y_f, test_size=0.25)"
   ]
  },
  {
   "cell_type": "markdown",
   "metadata": {},
   "source": [
    "## No sample weight"
   ]
  },
  {
   "cell_type": "code",
   "execution_count": 45,
   "metadata": {
    "ExecuteTime": {
     "end_time": "2018-06-07T11:40:17.244568Z",
     "start_time": "2018-06-07T11:40:17.222261Z"
    }
   },
   "outputs": [
    {
     "data": {
      "text/plain": [
       "array([[ 0.4376902 ,  0.12893254, -0.13773595, -0.08615458,  0.41068   ]])"
      ]
     },
     "execution_count": 45,
     "metadata": {},
     "output_type": "execute_result"
    }
   ],
   "source": [
    "lrc = linear_model.LogisticRegression(class_weight='balanced')\n",
    "lrc.fit(X_train[attributes], y_train)\n",
    "lrc.coef_"
   ]
  },
  {
   "cell_type": "code",
   "execution_count": 46,
   "metadata": {
    "ExecuteTime": {
     "end_time": "2018-06-07T11:40:27.148880Z",
     "start_time": "2018-06-07T11:40:27.138035Z"
    }
   },
   "outputs": [
    {
     "data": {
      "text/plain": [
       "0.28743169398907104"
      ]
     },
     "execution_count": 46,
     "metadata": {},
     "output_type": "execute_result"
    }
   ],
   "source": [
    "y_pred = lrc.predict(X_test[attributes])\n",
    "sklearn.metrics.mean_squared_error(y_test, y_pred)"
   ]
  },
  {
   "cell_type": "markdown",
   "metadata": {},
   "source": [
    "## With sample weight"
   ]
  },
  {
   "cell_type": "code",
   "execution_count": 48,
   "metadata": {
    "ExecuteTime": {
     "end_time": "2018-06-07T11:41:07.763548Z",
     "start_time": "2018-06-07T11:41:07.741677Z"
    }
   },
   "outputs": [
    {
     "data": {
      "text/plain": [
       "array([[ 0.34195099,  0.00260929, -0.1658326 , -0.11679748,  0.36857687]])"
      ]
     },
     "execution_count": 48,
     "metadata": {},
     "output_type": "execute_result"
    }
   ],
   "source": [
    "lrc = linear_model.LogisticRegression(class_weight='balanced')\n",
    "lrc.fit(X_train[attributes], y_train, sample_weight=X_train['sample_weight'])\n",
    "lrc.coef_"
   ]
  },
  {
   "cell_type": "code",
   "execution_count": 49,
   "metadata": {
    "ExecuteTime": {
     "end_time": "2018-06-07T11:41:20.541012Z",
     "start_time": "2018-06-07T11:41:20.531072Z"
    }
   },
   "outputs": [
    {
     "data": {
      "text/plain": [
       "0.3092896174863388"
      ]
     },
     "execution_count": 49,
     "metadata": {},
     "output_type": "execute_result"
    }
   ],
   "source": [
    "y_pred = lrc.predict(X_test[attributes])\n",
    "sklearn.metrics.mean_squared_error(y_test, y_pred)"
   ]
  },
  {
   "cell_type": "markdown",
   "metadata": {},
   "source": [
    "## Male"
   ]
  },
  {
   "cell_type": "code",
   "execution_count": 50,
   "metadata": {
    "ExecuteTime": {
     "end_time": "2018-06-07T11:41:28.270998Z",
     "start_time": "2018-06-07T11:41:28.262138Z"
    }
   },
   "outputs": [],
   "source": [
    "X_train, X_test, y_train, y_test = sklearn.model_selection.train_test_split(X_m, y_m, test_size=0.25)"
   ]
  },
  {
   "cell_type": "markdown",
   "metadata": {},
   "source": [
    "## No sample weight"
   ]
  },
  {
   "cell_type": "code",
   "execution_count": 51,
   "metadata": {
    "ExecuteTime": {
     "end_time": "2018-06-07T11:41:35.454960Z",
     "start_time": "2018-06-07T11:41:35.433415Z"
    }
   },
   "outputs": [
    {
     "data": {
      "text/plain": [
       "array([[ 0.65983461, -0.06312565, -0.08619471, -0.14891546,  0.36892042]])"
      ]
     },
     "execution_count": 51,
     "metadata": {},
     "output_type": "execute_result"
    }
   ],
   "source": [
    "lrc = linear_model.LogisticRegression(class_weight='balanced')\n",
    "lrc.fit(X_train[attributes], y_train)\n",
    "lrc.coef_"
   ]
  },
  {
   "cell_type": "code",
   "execution_count": 52,
   "metadata": {
    "ExecuteTime": {
     "end_time": "2018-06-07T11:41:41.094502Z",
     "start_time": "2018-06-07T11:41:41.084582Z"
    }
   },
   "outputs": [
    {
     "data": {
      "text/plain": [
       "0.24813631522896698"
      ]
     },
     "execution_count": 52,
     "metadata": {},
     "output_type": "execute_result"
    }
   ],
   "source": [
    "y_pred = lrc.predict(X_test[attributes])\n",
    "sklearn.metrics.mean_squared_error(y_test, y_pred)"
   ]
  },
  {
   "cell_type": "markdown",
   "metadata": {},
   "source": [
    "## With sample weight"
   ]
  },
  {
   "cell_type": "code",
   "execution_count": 53,
   "metadata": {
    "ExecuteTime": {
     "end_time": "2018-06-07T11:41:49.998199Z",
     "start_time": "2018-06-07T11:41:49.978139Z"
    }
   },
   "outputs": [
    {
     "data": {
      "text/plain": [
       "array([[ 0.57067604, -0.18369957, -0.09390644, -0.19735431,  0.32446958]])"
      ]
     },
     "execution_count": 53,
     "metadata": {},
     "output_type": "execute_result"
    }
   ],
   "source": [
    "lrc = linear_model.LogisticRegression(class_weight='balanced')\n",
    "lrc.fit(X_train[attributes], y_train, sample_weight=X_train['sample_weight'])\n",
    "lrc.coef_"
   ]
  },
  {
   "cell_type": "code",
   "execution_count": 54,
   "metadata": {
    "ExecuteTime": {
     "end_time": "2018-06-07T11:41:54.122060Z",
     "start_time": "2018-06-07T11:41:54.112318Z"
    }
   },
   "outputs": [
    {
     "data": {
      "text/plain": [
       "0.268370607028754"
      ]
     },
     "execution_count": 54,
     "metadata": {},
     "output_type": "execute_result"
    }
   ],
   "source": [
    "y_pred = lrc.predict(X_test[attributes])\n",
    "sklearn.metrics.mean_squared_error(y_test, y_pred)"
   ]
  },
  {
   "cell_type": "markdown",
   "metadata": {},
   "source": [
    "# Sandbox"
   ]
  },
  {
   "cell_type": "markdown",
   "metadata": {},
   "source": [
    "# Change the encoding of the original Kaggle file"
   ]
  },
  {
   "cell_type": "code",
   "execution_count": null,
   "metadata": {
    "ExecuteTime": {
     "end_time": "2018-06-07T11:04:24.563885Z",
     "start_time": "2018-06-07T11:04:24.559693Z"
    }
   },
   "outputs": [],
   "source": [
    "import os"
   ]
  },
  {
   "cell_type": "code",
   "execution_count": null,
   "metadata": {
    "ExecuteTime": {
     "end_time": "2018-06-07T11:04:24.789712Z",
     "start_time": "2018-06-07T11:04:24.784913Z"
    }
   },
   "outputs": [],
   "source": [
    "data_dir = '/home/chan/workspace/datasets/speed-dating/'\n",
    "data_file_path = os.path.join(data_dir, 'Speed Dating Data.csv')\n",
    "#updated_data_file_path = os.path.join(data_dir, 'speed-dating-data.csv')"
   ]
  },
  {
   "cell_type": "code",
   "execution_count": null,
   "metadata": {
    "ExecuteTime": {
     "end_time": "2018-05-31T05:13:22.167029Z",
     "start_time": "2018-05-31T05:13:22.122512Z"
    }
   },
   "outputs": [],
   "source": [
    "# fp = open(data_file_path, 'r', encoding='latin_1')\n",
    "# ufp = open(updated_data_file_path, 'w', encoding='utf-8')\n",
    "\n",
    "# try:\n",
    "#     for a_line in fp:\n",
    "#         #print(a_line.encode('utf-8').strip(), file=utf8_fp)\n",
    "#         #utf8_fp.write(l)\n",
    "#         print(a_line, file=ufp)\n",
    "# except UnicodeDecodeError as err:\n",
    "#     print(err)\n",
    "#     print(a_line)\n",
    "#     import pdb\n",
    "#     pdb.set_trace()\n",
    "\n",
    "# fp.close()\n",
    "# ufp.close()"
   ]
  },
  {
   "cell_type": "markdown",
   "metadata": {},
   "source": [
    "## sandbox"
   ]
  },
  {
   "cell_type": "code",
   "execution_count": null,
   "metadata": {
    "ExecuteTime": {
     "end_time": "2018-06-07T11:04:27.526219Z",
     "start_time": "2018-06-07T11:04:27.521751Z"
    }
   },
   "outputs": [],
   "source": [
    "import csv"
   ]
  },
  {
   "cell_type": "code",
   "execution_count": null,
   "metadata": {
    "ExecuteTime": {
     "end_time": "2018-06-07T11:04:28.104724Z",
     "start_time": "2018-06-07T11:04:28.099714Z"
    }
   },
   "outputs": [],
   "source": [
    "csv_file = open(data_file_path, 'r', encoding='latin_1')\n",
    "csv_reader = csv.DictReader(csv_file)"
   ]
  },
  {
   "cell_type": "code",
   "execution_count": null,
   "metadata": {
    "ExecuteTime": {
     "end_time": "2018-06-07T10:57:16.959786Z",
     "start_time": "2018-06-07T10:57:16.944943Z"
    }
   },
   "outputs": [],
   "source": [
    "csv_reader.fieldnames"
   ]
  },
  {
   "cell_type": "code",
   "execution_count": null,
   "metadata": {
    "ExecuteTime": {
     "end_time": "2018-06-07T11:04:30.872537Z",
     "start_time": "2018-06-07T11:04:30.867749Z"
    }
   },
   "outputs": [],
   "source": [
    "an_item = next(csv_reader)"
   ]
  },
  {
   "cell_type": "code",
   "execution_count": null,
   "metadata": {
    "ExecuteTime": {
     "end_time": "2018-06-07T11:04:32.280491Z",
     "start_time": "2018-06-07T11:04:32.251384Z"
    }
   },
   "outputs": [],
   "source": [
    "import psycopg2\n",
    "conn = psycopg2.connect(\"dbname=speed-dating user=chan\")\n",
    "cur = conn.cursor()"
   ]
  },
  {
   "cell_type": "code",
   "execution_count": null,
   "metadata": {
    "ExecuteTime": {
     "end_time": "2018-06-07T11:04:32.795695Z",
     "start_time": "2018-06-07T11:04:32.787510Z"
    }
   },
   "outputs": [],
   "source": [
    "data_keys = {\n",
    "    \"oid\": \"SERIAL PRIMARY KEY\",\n",
    "    \"iid\": \"INTEGER\",\n",
    "    \"gender\": \"INTEGER\",\n",
    "    \"round\": \"INTEGER\",\n",
    "    \"attr\": \"FLOAT\",\n",
    "    \"sinc\": \"FLOAT\",\n",
    "    \"intel\": \"FLOAT\",\n",
    "    \"fun\": \"FLOAT\",\n",
    "    \"amb\": \"FLOAT\",\n",
    "    \"dec\": \"FLOAT\",\n",
    "}"
   ]
  },
  {
   "cell_type": "code",
   "execution_count": null,
   "metadata": {
    "ExecuteTime": {
     "end_time": "2018-06-07T11:05:27.849615Z",
     "start_time": "2018-06-07T11:05:27.793983Z"
    }
   },
   "outputs": [],
   "source": [
    "with psycopg2.connect(\"dbname=speed-dating user=chan\") as conn:\n",
    "    with conn.cursor() as cur:\n",
    "        cur.execute(\"DROP TABLE IF EXISTS data\")\n",
    "        cur.execute(\n",
    "            \"CREATE TABLE data ({});\"\n",
    "            .format(\n",
    "                ', '.join(\n",
    "                    ['{} {}'.format(k, v) for k, v in data_keys.items()]\n",
    "                )\n",
    "            )\n",
    "        )\n",
    "#         cur.copy_expert(\n",
    "#             \"COPY data ({}) from STDIN WITH (FORMAT CSV, HEADER TRUE)\"\n",
    "#             .format(\n",
    "#                 ', '.join(['{}'.format(k) for k in data_keys.keys() if k != 'oid'])\n",
    "#             ),\n",
    "#             csv_file,\n",
    "#         )\n",
    "        conn.commit()"
   ]
  },
  {
   "cell_type": "code",
   "execution_count": null,
   "metadata": {
    "ExecuteTime": {
     "end_time": "2018-06-07T11:04:36.418582Z",
     "start_time": "2018-06-07T11:04:36.411600Z"
    }
   },
   "outputs": [],
   "source": [
    "cur.execute(\"DROP TABLE IF EXISTS data\")"
   ]
  },
  {
   "cell_type": "code",
   "execution_count": null,
   "metadata": {
    "ExecuteTime": {
     "end_time": "2018-06-07T11:04:37.541794Z",
     "start_time": "2018-06-07T11:04:37.528085Z"
    }
   },
   "outputs": [],
   "source": [
    "cur.execute(\n",
    "    \"CREATE TABLE data ({});\"\n",
    "    .format(', '.join(['{} {}'.format(k, v) for k, v in data_keys.items()]))\n",
    ")"
   ]
  },
  {
   "cell_type": "code",
   "execution_count": null,
   "metadata": {
    "ExecuteTime": {
     "end_time": "2018-06-07T11:04:54.659659Z",
     "start_time": "2018-06-07T11:04:54.650053Z"
    }
   },
   "outputs": [],
   "source": [
    "ks = [k for k in data_keys.keys() if k != 'oid']\n",
    "\n",
    "cur.execute(\n",
    "    \"INSERT INTO data ({}) VALUES ({});\"\n",
    "    .format(\n",
    "        ', '.join(['{}'.format(k) for k in ks]),\n",
    "        ', '.join(['%s'] * len(ks)),\n",
    "    ),\n",
    "    [an_item[k] for k in ks],\n",
    ")"
   ]
  },
  {
   "cell_type": "code",
   "execution_count": null,
   "metadata": {
    "ExecuteTime": {
     "end_time": "2018-06-07T11:04:55.183372Z",
     "start_time": "2018-06-07T11:04:55.177357Z"
    }
   },
   "outputs": [],
   "source": [
    "conn.commit()"
   ]
  },
  {
   "cell_type": "code",
   "execution_count": null,
   "metadata": {
    "ExecuteTime": {
     "end_time": "2018-06-07T11:04:55.645800Z",
     "start_time": "2018-06-07T11:04:55.641444Z"
    }
   },
   "outputs": [],
   "source": [
    "cur.close()\n",
    "conn.close()"
   ]
  },
  {
   "cell_type": "code",
   "execution_count": null,
   "metadata": {
    "ExecuteTime": {
     "end_time": "2018-06-07T11:10:53.813240Z",
     "start_time": "2018-06-07T11:10:53.467978Z"
    }
   },
   "outputs": [],
   "source": [
    "import pandas as pd\n",
    "conn = psycopg2.connect(\"dbname=speed-dating user=chan\")\n",
    "df = pd.read_sql(\"SELECT * FROM data;\", conn)"
   ]
  },
  {
   "cell_type": "code",
   "execution_count": null,
   "metadata": {
    "ExecuteTime": {
     "end_time": "2018-06-07T11:10:54.418743Z",
     "start_time": "2018-06-07T11:10:54.372313Z"
    }
   },
   "outputs": [],
   "source": [
    "df"
   ]
  },
  {
   "cell_type": "markdown",
   "metadata": {},
   "source": [
    "# Read the csv file using pandas"
   ]
  },
  {
   "cell_type": "code",
   "execution_count": null,
   "metadata": {
    "ExecuteTime": {
     "end_time": "2018-06-07T09:30:28.628065Z",
     "start_time": "2018-06-07T09:30:28.350356Z"
    }
   },
   "outputs": [],
   "source": [
    "import pandas as pd\n",
    "import numpy as np"
   ]
  },
  {
   "cell_type": "code",
   "execution_count": null,
   "metadata": {
    "ExecuteTime": {
     "end_time": "2018-06-05T11:42:57.585315Z",
     "start_time": "2018-06-05T11:42:57.579962Z"
    }
   },
   "outputs": [],
   "source": [
    "pd.options.display.max_columns = 200\n",
    "pd.options.display.max_rows = 200"
   ]
  },
  {
   "cell_type": "code",
   "execution_count": null,
   "metadata": {
    "ExecuteTime": {
     "end_time": "2018-06-07T05:17:16.599572Z",
     "start_time": "2018-06-07T05:17:16.438699Z"
    }
   },
   "outputs": [],
   "source": [
    "#fp = open(updated_data_file_path, 'r', encoding='utf-8')\n",
    "fp = open(data_file_path, 'r', encoding='latin_1')\n",
    "# dtype = {\n",
    "#     #'id': np.float32,\n",
    "#     'zipcode': np.str,\n",
    "# }\n",
    "df = pd.read_csv(\n",
    "    fp,\n",
    "    encoding='latin_1',\n",
    "    #dtype=dtype,\n",
    ")"
   ]
  },
  {
   "cell_type": "code",
   "execution_count": null,
   "metadata": {
    "ExecuteTime": {
     "end_time": "2018-06-07T05:17:32.028878Z",
     "start_time": "2018-06-07T05:17:32.020777Z"
    }
   },
   "outputs": [],
   "source": [
    "df.columns.values"
   ]
  },
  {
   "cell_type": "code",
   "execution_count": null,
   "metadata": {
    "ExecuteTime": {
     "end_time": "2018-06-07T08:52:36.440877Z",
     "start_time": "2018-06-07T08:52:36.393297Z"
    }
   },
   "outputs": [],
   "source": [
    "df.sample(10)"
   ]
  },
  {
   "cell_type": "markdown",
   "metadata": {},
   "source": [
    "# Data cleanup"
   ]
  },
  {
   "cell_type": "markdown",
   "metadata": {},
   "source": [
    "## id to int"
   ]
  },
  {
   "cell_type": "code",
   "execution_count": null,
   "metadata": {
    "ExecuteTime": {
     "end_time": "2018-06-05T07:56:58.265326Z",
     "start_time": "2018-06-05T07:56:58.232759Z"
    },
    "scrolled": true
   },
   "outputs": [],
   "source": [
    "df[pd.isna(df['id'])]"
   ]
  },
  {
   "cell_type": "code",
   "execution_count": null,
   "metadata": {
    "ExecuteTime": {
     "end_time": "2018-06-05T07:56:58.555396Z",
     "start_time": "2018-06-05T07:56:58.512991Z"
    }
   },
   "outputs": [],
   "source": [
    "df[df['iid'] == 552]"
   ]
  },
  {
   "cell_type": "code",
   "execution_count": null,
   "metadata": {
    "ExecuteTime": {
     "end_time": "2018-06-05T07:56:58.816823Z",
     "start_time": "2018-06-05T07:56:58.795688Z"
    }
   },
   "outputs": [],
   "source": [
    "df.loc[8377, 'id'] = 22\n",
    "\n",
    "df.id = df.id.astype(np.int32)"
   ]
  },
  {
   "cell_type": "markdown",
   "metadata": {},
   "source": [
    "## pid to int"
   ]
  },
  {
   "cell_type": "code",
   "execution_count": null,
   "metadata": {
    "ExecuteTime": {
     "end_time": "2018-06-05T07:03:42.801026Z",
     "start_time": "2018-06-05T07:03:42.666636Z"
    }
   },
   "outputs": [],
   "source": [
    "df[pd.isna(df['pid'])]"
   ]
  },
  {
   "cell_type": "code",
   "execution_count": null,
   "metadata": {
    "ExecuteTime": {
     "end_time": "2018-06-05T07:03:45.829780Z",
     "start_time": "2018-06-05T07:03:45.817122Z"
    }
   },
   "outputs": [],
   "source": [
    "np.unique(df[(df['wave'] == 5) & (df['gender'] == 0)]['id'].values)"
   ]
  },
  {
   "cell_type": "code",
   "execution_count": null,
   "metadata": {
    "ExecuteTime": {
     "end_time": "2018-06-05T07:03:46.896590Z",
     "start_time": "2018-06-05T07:03:46.838610Z"
    }
   },
   "outputs": [],
   "source": [
    "df[(df['wave'] == 5) & (df['id'] == 7) & (df['gender'] == 0)]"
   ]
  },
  {
   "cell_type": "markdown",
   "metadata": {},
   "source": [
    "No such partner, drop the items."
   ]
  },
  {
   "cell_type": "code",
   "execution_count": null,
   "metadata": {
    "ExecuteTime": {
     "end_time": "2018-06-05T07:57:07.988822Z",
     "start_time": "2018-06-05T07:57:07.966776Z"
    }
   },
   "outputs": [],
   "source": [
    "df = df.dropna(axis='index', subset=['pid'])"
   ]
  },
  {
   "cell_type": "code",
   "execution_count": null,
   "metadata": {
    "ExecuteTime": {
     "end_time": "2018-06-05T07:04:04.478564Z",
     "start_time": "2018-06-05T07:04:04.422597Z"
    }
   },
   "outputs": [],
   "source": [
    "df[pd.isna(df['pid'])]"
   ]
  },
  {
   "cell_type": "code",
   "execution_count": null,
   "metadata": {
    "ExecuteTime": {
     "end_time": "2018-06-05T07:57:13.012235Z",
     "start_time": "2018-06-05T07:57:12.953328Z"
    }
   },
   "outputs": [],
   "source": [
    "df['pid'] = df['pid'].astype(np.int32)"
   ]
  },
  {
   "cell_type": "code",
   "execution_count": null,
   "metadata": {
    "ExecuteTime": {
     "end_time": "2018-06-05T07:04:06.349876Z",
     "start_time": "2018-06-05T07:04:06.343110Z"
    }
   },
   "outputs": [],
   "source": [
    "df.pid.dtype"
   ]
  },
  {
   "cell_type": "markdown",
   "metadata": {},
   "source": [
    "# attr, intel, and amb"
   ]
  },
  {
   "cell_type": "code",
   "execution_count": null,
   "metadata": {
    "ExecuteTime": {
     "end_time": "2018-06-01T05:21:10.296392Z",
     "start_time": "2018-06-01T05:21:10.283215Z"
    }
   },
   "outputs": [],
   "source": [
    "np.unique(df['attr'].values)"
   ]
  },
  {
   "cell_type": "code",
   "execution_count": null,
   "metadata": {
    "ExecuteTime": {
     "end_time": "2018-06-01T05:24:03.721019Z",
     "start_time": "2018-06-01T05:24:03.704995Z"
    }
   },
   "outputs": [],
   "source": [
    "df[pd.isna(df['attr'])]['iid']"
   ]
  },
  {
   "cell_type": "code",
   "execution_count": null,
   "metadata": {
    "ExecuteTime": {
     "end_time": "2018-06-01T05:21:27.854455Z",
     "start_time": "2018-06-01T05:21:27.835551Z"
    }
   },
   "outputs": [],
   "source": [
    "np.unique(df['intel'].values)"
   ]
  },
  {
   "cell_type": "code",
   "execution_count": null,
   "metadata": {
    "ExecuteTime": {
     "end_time": "2018-06-01T05:22:02.850538Z",
     "start_time": "2018-06-01T05:22:02.826002Z"
    }
   },
   "outputs": [],
   "source": [
    "np.unique(df['amb'].values)"
   ]
  },
  {
   "cell_type": "code",
   "execution_count": null,
   "metadata": {
    "ExecuteTime": {
     "end_time": "2018-06-05T07:04:27.495574Z",
     "start_time": "2018-06-05T07:04:27.477516Z"
    }
   },
   "outputs": [],
   "source": [
    "for char in ['attr', 'intel', 'amb']:\n",
    "    print(\n",
    "        'NaN {}, counts = {}'.format(\n",
    "            char,\n",
    "            len(df[pd.isna(df[char])].index),\n",
    "        )\n",
    "    )"
   ]
  },
  {
   "cell_type": "code",
   "execution_count": null,
   "metadata": {
    "ExecuteTime": {
     "end_time": "2018-06-05T11:44:11.669764Z",
     "start_time": "2018-06-05T11:44:11.656928Z"
    }
   },
   "outputs": [],
   "source": [
    "df[pd.isna(df['attr']) | pd.isna(df['intel']) | pd.isna(df['amb'])].shape"
   ]
  },
  {
   "cell_type": "code",
   "execution_count": null,
   "metadata": {
    "ExecuteTime": {
     "end_time": "2018-06-05T07:57:20.252903Z",
     "start_time": "2018-06-05T07:57:20.233904Z"
    }
   },
   "outputs": [],
   "source": [
    "df = df.dropna(axis='index', subset=['attr', 'intel', 'amb'])"
   ]
  },
  {
   "cell_type": "code",
   "execution_count": null,
   "metadata": {
    "ExecuteTime": {
     "end_time": "2018-06-05T07:04:35.941190Z",
     "start_time": "2018-06-05T07:04:35.885911Z"
    }
   },
   "outputs": [],
   "source": [
    "df[pd.isna(df['attr']) | pd.isna(df['intel']) | pd.isna(df['amb'])]"
   ]
  },
  {
   "cell_type": "code",
   "execution_count": null,
   "metadata": {
    "ExecuteTime": {
     "end_time": "2018-06-05T11:45:33.610941Z",
     "start_time": "2018-06-05T11:45:33.592004Z"
    }
   },
   "outputs": [],
   "source": [
    "df[\n",
    "    pd.isna(df['attr'])\n",
    "    | pd.isna(df['intel'])\n",
    "    | pd.isna(df['amb'])\n",
    "    | pd.isna(df['sinc'])\n",
    "    | pd.isna(df['fun'])\n",
    "].shape"
   ]
  },
  {
   "cell_type": "code",
   "execution_count": null,
   "metadata": {
    "ExecuteTime": {
     "end_time": "2018-06-05T11:46:00.275095Z",
     "start_time": "2018-06-05T11:46:00.252016Z"
    }
   },
   "outputs": [],
   "source": [
    "df = df.dropna(axis='index', subset=['attr', 'intel', 'amb', 'sinc', 'fun'])"
   ]
  },
  {
   "cell_type": "markdown",
   "metadata": {},
   "source": [
    "# Dataframe with three features"
   ]
  },
  {
   "cell_type": "code",
   "execution_count": null,
   "metadata": {
    "ExecuteTime": {
     "end_time": "2018-06-05T08:27:33.953678Z",
     "start_time": "2018-06-05T08:27:33.937117Z"
    }
   },
   "outputs": [],
   "source": [
    "# cols = ['iid', 'id', 'gender', 'idg', 'condtn', 'wave', 'round', 'partner', 'pid', 'match',\n",
    "#         'attr', 'intel', 'amb', ]\n",
    "# sub_df = df[cols]"
   ]
  },
  {
   "cell_type": "code",
   "execution_count": null,
   "metadata": {
    "ExecuteTime": {
     "end_time": "2018-06-05T11:24:50.256577Z",
     "start_time": "2018-06-05T11:24:50.215891Z"
    }
   },
   "outputs": [],
   "source": [
    "# X_f = df[df['gender'] == 0][['iid', 'round', 'attr', 'intel', 'amb']]\n",
    "# y_f = df[df['gender'] == 0]['dec']\n",
    "\n",
    "# X_m = df[df['gender'] == 1][['iid', 'round', 'attr', 'intel', 'amb']]\n",
    "# y_m = df[df['gender'] == 1]['dec']"
   ]
  },
  {
   "cell_type": "code",
   "execution_count": null,
   "metadata": {
    "ExecuteTime": {
     "end_time": "2018-06-05T11:46:09.369173Z",
     "start_time": "2018-06-05T11:46:09.342382Z"
    }
   },
   "outputs": [],
   "source": [
    "X_f = df[df['gender'] == 0][['iid', 'round', 'attr', 'sinc', 'intel', 'fun', 'amb']]\n",
    "y_f = df[df['gender'] == 0]['dec']\n",
    "\n",
    "X_m = df[df['gender'] == 1][['iid', 'round', 'attr', 'intel', 'amb']]\n",
    "y_m = df[df['gender'] == 1]['dec']"
   ]
  },
  {
   "cell_type": "code",
   "execution_count": null,
   "metadata": {
    "ExecuteTime": {
     "end_time": "2018-06-05T11:10:54.467164Z",
     "start_time": "2018-06-05T11:10:54.461525Z"
    }
   },
   "outputs": [],
   "source": [
    "# def get_sample_weights(iids):\n",
    "#     counts = iids.value_counts()\n",
    "#     sample_weights = iids.apply(lambda iid: (1.0 / counts[iid]))\n",
    "#     return sample_weights.values"
   ]
  },
  {
   "cell_type": "code",
   "execution_count": null,
   "metadata": {
    "ExecuteTime": {
     "end_time": "2018-06-05T11:46:12.774121Z",
     "start_time": "2018-06-05T11:46:12.696291Z"
    }
   },
   "outputs": [],
   "source": [
    "X_f['sample_weight'] = 1 / X_f['round']\n",
    "X_m['sample_weight'] = 1 / X_m['round']"
   ]
  },
  {
   "cell_type": "code",
   "execution_count": null,
   "metadata": {
    "ExecuteTime": {
     "end_time": "2018-06-05T07:57:39.743332Z",
     "start_time": "2018-06-05T07:57:39.739461Z"
    }
   },
   "outputs": [],
   "source": [
    "import sklearn"
   ]
  },
  {
   "cell_type": "markdown",
   "metadata": {},
   "source": [
    "# A simple linear regression\n",
    "\n",
    "Here we perform a very simple regression to estimate the decision according to p.682 of http://faculty.chicagobooth.edu/emir.kamenica/documents/genderDifferences.pdf"
   ]
  },
  {
   "cell_type": "markdown",
   "metadata": {},
   "source": [
    "## Female, gender == 0"
   ]
  },
  {
   "cell_type": "code",
   "execution_count": null,
   "metadata": {
    "ExecuteTime": {
     "end_time": "2018-06-05T11:46:16.993566Z",
     "start_time": "2018-06-05T11:46:16.981621Z"
    }
   },
   "outputs": [],
   "source": [
    "X_train, X_test, y_train, y_test = sklearn.model_selection.train_test_split(X_f, y_f, test_size=0.25)"
   ]
  },
  {
   "cell_type": "code",
   "execution_count": null,
   "metadata": {
    "ExecuteTime": {
     "end_time": "2018-06-05T11:46:17.538099Z",
     "start_time": "2018-06-05T11:46:17.533671Z"
    }
   },
   "outputs": [],
   "source": [
    "reg = sklearn.linear_model.LinearRegression()"
   ]
  },
  {
   "cell_type": "code",
   "execution_count": null,
   "metadata": {
    "ExecuteTime": {
     "end_time": "2018-06-05T11:13:10.813682Z",
     "start_time": "2018-06-05T11:13:10.801275Z"
    }
   },
   "outputs": [],
   "source": [
    "reg.fit(X_train[['attr', 'intel', 'amb']], y_train)"
   ]
  },
  {
   "cell_type": "code",
   "execution_count": null,
   "metadata": {
    "ExecuteTime": {
     "end_time": "2018-06-05T11:13:12.612714Z",
     "start_time": "2018-06-05T11:13:12.605966Z"
    }
   },
   "outputs": [],
   "source": [
    "reg.coef_"
   ]
  },
  {
   "cell_type": "markdown",
   "metadata": {},
   "source": [
    "attractive : intelligent = 100 : 24"
   ]
  },
  {
   "cell_type": "code",
   "execution_count": null,
   "metadata": {
    "ExecuteTime": {
     "end_time": "2018-06-05T11:13:56.122726Z",
     "start_time": "2018-06-05T11:13:56.115531Z"
    }
   },
   "outputs": [],
   "source": [
    "y_pred = np.heaviside(reg.predict(X_test[['attr', 'intel', 'amb']]), 0.5)"
   ]
  },
  {
   "cell_type": "code",
   "execution_count": null,
   "metadata": {
    "ExecuteTime": {
     "end_time": "2018-06-05T11:14:01.508343Z",
     "start_time": "2018-06-05T11:14:01.501402Z"
    }
   },
   "outputs": [],
   "source": [
    "sklearn.metrics.mean_squared_error(y_test, y_pred)"
   ]
  },
  {
   "cell_type": "markdown",
   "metadata": {},
   "source": [
    "## Male, gender == 1"
   ]
  },
  {
   "cell_type": "code",
   "execution_count": null,
   "metadata": {
    "ExecuteTime": {
     "end_time": "2018-06-05T08:41:51.568321Z",
     "start_time": "2018-06-05T08:41:51.562901Z"
    }
   },
   "outputs": [],
   "source": [
    "X_train, X_test, y_train, y_test = sklearn.model_selection.train_test_split(X_m, y_m, test_size=0.25)"
   ]
  },
  {
   "cell_type": "code",
   "execution_count": null,
   "metadata": {
    "ExecuteTime": {
     "end_time": "2018-06-05T08:41:52.852225Z",
     "start_time": "2018-06-05T08:41:52.842517Z"
    }
   },
   "outputs": [],
   "source": [
    "reg = sklearn.linear_model.LinearRegression()\n",
    "reg.fit(X_train, y_train)\n",
    "reg.coef_"
   ]
  },
  {
   "cell_type": "markdown",
   "metadata": {},
   "source": [
    "attractive : intelligent = 140 : -3"
   ]
  },
  {
   "cell_type": "code",
   "execution_count": null,
   "metadata": {
    "ExecuteTime": {
     "end_time": "2018-06-05T08:42:10.295994Z",
     "start_time": "2018-06-05T08:42:10.287837Z"
    }
   },
   "outputs": [],
   "source": [
    "y_pred = np.heaviside(reg.predict(X_test), 0.5)\n",
    "\n",
    "sklearn.metrics.mean_squared_error(y_test, y_pred)"
   ]
  },
  {
   "cell_type": "markdown",
   "metadata": {},
   "source": [
    "# Logistic regression"
   ]
  },
  {
   "cell_type": "markdown",
   "metadata": {},
   "source": [
    "## Female"
   ]
  },
  {
   "cell_type": "code",
   "execution_count": null,
   "metadata": {
    "ExecuteTime": {
     "end_time": "2018-06-05T11:47:14.015278Z",
     "start_time": "2018-06-05T11:47:14.005351Z"
    }
   },
   "outputs": [],
   "source": [
    "X_train, X_test, y_train, y_test = sklearn.model_selection.train_test_split(X_f, y_f, test_size=0.25)"
   ]
  },
  {
   "cell_type": "markdown",
   "metadata": {},
   "source": [
    "## No sample weight"
   ]
  },
  {
   "cell_type": "code",
   "execution_count": null,
   "metadata": {
    "ExecuteTime": {
     "end_time": "2018-06-05T11:47:15.082152Z",
     "start_time": "2018-06-05T11:47:15.059985Z"
    }
   },
   "outputs": [],
   "source": [
    "lrc = sklearn.linear_model.LogisticRegression(class_weight='balanced')\n",
    "lrc.fit(X_train[['attr', 'intel', 'amb']], y_train)\n",
    "lrc.coef_"
   ]
  },
  {
   "cell_type": "code",
   "execution_count": null,
   "metadata": {
    "ExecuteTime": {
     "end_time": "2018-06-05T11:47:15.548070Z",
     "start_time": "2018-06-05T11:47:15.537820Z"
    }
   },
   "outputs": [],
   "source": [
    "y_pred = lrc.predict(X_test[['attr', 'intel', 'amb']])\n",
    "sklearn.metrics.mean_squared_error(y_test, y_pred)"
   ]
  },
  {
   "cell_type": "code",
   "execution_count": null,
   "metadata": {
    "ExecuteTime": {
     "end_time": "2018-06-05T11:47:18.933732Z",
     "start_time": "2018-06-05T11:47:18.910499Z"
    }
   },
   "outputs": [],
   "source": [
    "lrc = sklearn.linear_model.LogisticRegression(class_weight='balanced')\n",
    "lrc.fit(X_train[['attr', 'intel', 'amb', 'sinc', 'fun']], y_train)\n",
    "lrc.coef_"
   ]
  },
  {
   "cell_type": "code",
   "execution_count": null,
   "metadata": {
    "ExecuteTime": {
     "end_time": "2018-06-05T11:47:23.352591Z",
     "start_time": "2018-06-05T11:47:23.340596Z"
    }
   },
   "outputs": [],
   "source": [
    "y_pred = lrc.predict(X_test[['attr', 'intel', 'amb', 'sinc', 'fun']])\n",
    "sklearn.metrics.mean_squared_error(y_test, y_pred)"
   ]
  },
  {
   "cell_type": "markdown",
   "metadata": {},
   "source": [
    "## With sample weight"
   ]
  },
  {
   "cell_type": "code",
   "execution_count": null,
   "metadata": {
    "ExecuteTime": {
     "end_time": "2018-06-05T11:32:30.586993Z",
     "start_time": "2018-06-05T11:32:30.567636Z"
    }
   },
   "outputs": [],
   "source": [
    "lrc = sklearn.linear_model.LogisticRegression(class_weight='balanced')\n",
    "lrc.fit(X_train[['attr', 'intel', 'amb']], y_train, sample_weight=X_train['sample_weight'])\n",
    "lrc.coef_"
   ]
  },
  {
   "cell_type": "code",
   "execution_count": null,
   "metadata": {
    "ExecuteTime": {
     "end_time": "2018-06-05T11:32:31.456089Z",
     "start_time": "2018-06-05T11:32:31.444639Z"
    }
   },
   "outputs": [],
   "source": [
    "y_pred = lrc.predict(X_test[['attr', 'intel', 'amb']])\n",
    "sklearn.metrics.mean_squared_error(y_test, y_pred)"
   ]
  },
  {
   "cell_type": "markdown",
   "metadata": {},
   "source": [
    "## Male"
   ]
  },
  {
   "cell_type": "code",
   "execution_count": null,
   "metadata": {
    "ExecuteTime": {
     "end_time": "2018-06-05T11:32:35.719146Z",
     "start_time": "2018-06-05T11:32:35.709357Z"
    }
   },
   "outputs": [],
   "source": [
    "X_train, X_test, y_train, y_test = sklearn.model_selection.train_test_split(X_m, y_m, test_size=0.25)"
   ]
  },
  {
   "cell_type": "markdown",
   "metadata": {},
   "source": [
    "## No sample weight"
   ]
  },
  {
   "cell_type": "code",
   "execution_count": null,
   "metadata": {
    "ExecuteTime": {
     "end_time": "2018-06-05T11:32:39.114431Z",
     "start_time": "2018-06-05T11:32:39.092160Z"
    }
   },
   "outputs": [],
   "source": [
    "lrc = sklearn.linear_model.LogisticRegression(class_weight='balanced')\n",
    "lrc.fit(X_train[['attr', 'intel', 'amb']], y_train)\n",
    "lrc.coef_"
   ]
  },
  {
   "cell_type": "code",
   "execution_count": null,
   "metadata": {
    "ExecuteTime": {
     "end_time": "2018-06-05T11:32:39.669788Z",
     "start_time": "2018-06-05T11:32:39.660695Z"
    }
   },
   "outputs": [],
   "source": [
    "y_pred = lrc.predict(X_test[['attr', 'intel', 'amb']])\n",
    "sklearn.metrics.mean_squared_error(y_test, y_pred)"
   ]
  },
  {
   "cell_type": "markdown",
   "metadata": {},
   "source": [
    "## With sample weight"
   ]
  },
  {
   "cell_type": "code",
   "execution_count": null,
   "metadata": {
    "ExecuteTime": {
     "end_time": "2018-06-05T11:32:43.695457Z",
     "start_time": "2018-06-05T11:32:43.674844Z"
    }
   },
   "outputs": [],
   "source": [
    "lrc = sklearn.linear_model.LogisticRegression(class_weight='balanced')\n",
    "lrc.fit(X_train[['attr', 'intel', 'amb']], y_train, sample_weight=X_train['sample_weight'])\n",
    "lrc.coef_"
   ]
  },
  {
   "cell_type": "code",
   "execution_count": null,
   "metadata": {
    "ExecuteTime": {
     "end_time": "2018-06-05T11:32:44.195966Z",
     "start_time": "2018-06-05T11:32:44.185742Z"
    }
   },
   "outputs": [],
   "source": [
    "y_pred = lrc.predict(X_test[['attr', 'intel', 'amb']])\n",
    "sklearn.metrics.mean_squared_error(y_test, y_pred)"
   ]
  },
  {
   "cell_type": "markdown",
   "metadata": {},
   "source": [
    "# Using minibatch?"
   ]
  },
  {
   "cell_type": "code",
   "execution_count": null,
   "metadata": {
    "ExecuteTime": {
     "end_time": "2018-06-05T09:24:48.442768Z",
     "start_time": "2018-06-05T09:24:48.437727Z"
    }
   },
   "outputs": [],
   "source": [
    "lrc_sgd = sklearn.linear_model.SGDClassifier(loss='log')"
   ]
  },
  {
   "cell_type": "code",
   "execution_count": null,
   "metadata": {
    "ExecuteTime": {
     "end_time": "2018-06-05T09:30:30.030564Z",
     "start_time": "2018-06-05T09:30:30.024800Z"
    }
   },
   "outputs": [],
   "source": [
    "X_train, X_test, y_train, y_test = sklearn.model_selection.train_test_split(X_f, y_f, test_size=0.25)"
   ]
  },
  {
   "cell_type": "code",
   "execution_count": null,
   "metadata": {
    "ExecuteTime": {
     "end_time": "2018-06-05T09:30:30.365837Z",
     "start_time": "2018-06-05T09:30:30.360162Z"
    }
   },
   "outputs": [],
   "source": [
    "len(X_train)"
   ]
  },
  {
   "cell_type": "code",
   "execution_count": null,
   "metadata": {
    "ExecuteTime": {
     "end_time": "2018-06-05T09:30:30.737568Z",
     "start_time": "2018-06-05T09:30:30.733247Z"
    }
   },
   "outputs": [],
   "source": [
    "size_1 = 1000\n",
    "X_train_1 = X_train[:size_1]\n",
    "y_train_1 = y_train[:size_1]"
   ]
  },
  {
   "cell_type": "code",
   "execution_count": null,
   "metadata": {
    "ExecuteTime": {
     "end_time": "2018-06-05T09:30:31.050907Z",
     "start_time": "2018-06-05T09:30:31.040274Z"
    }
   },
   "outputs": [],
   "source": [
    "lrc_sgd.partial_fit(X_train_1, y_train_1, classes=[0, 1])"
   ]
  },
  {
   "cell_type": "code",
   "execution_count": null,
   "metadata": {
    "ExecuteTime": {
     "end_time": "2018-06-05T09:30:31.418708Z",
     "start_time": "2018-06-05T09:30:31.414541Z"
    }
   },
   "outputs": [],
   "source": [
    "X_train_2 = X_train[size_1:]\n",
    "y_train_2 = y_train[size_1:]"
   ]
  },
  {
   "cell_type": "code",
   "execution_count": null,
   "metadata": {
    "ExecuteTime": {
     "end_time": "2018-06-05T09:30:31.779665Z",
     "start_time": "2018-06-05T09:30:31.768865Z"
    }
   },
   "outputs": [],
   "source": [
    "lrc_sgd.partial_fit(X_train_2, y_train_2, classes=[0, 1])"
   ]
  },
  {
   "cell_type": "code",
   "execution_count": null,
   "metadata": {
    "ExecuteTime": {
     "end_time": "2018-06-05T09:30:32.104374Z",
     "start_time": "2018-06-05T09:30:32.096534Z"
    }
   },
   "outputs": [],
   "source": [
    "y_pred = lrc_sgd.predict(X_test)\n",
    "sklearn.metrics.mean_squared_error(y_test, y_pred)"
   ]
  },
  {
   "cell_type": "markdown",
   "metadata": {},
   "source": [
    "# Data exploration"
   ]
  },
  {
   "cell_type": "code",
   "execution_count": null,
   "metadata": {
    "ExecuteTime": {
     "end_time": "2018-06-05T10:38:42.166956Z",
     "start_time": "2018-06-05T10:38:42.157480Z"
    }
   },
   "outputs": [],
   "source": [
    "df['iid'].value_counts()[21]"
   ]
  },
  {
   "cell_type": "code",
   "execution_count": null,
   "metadata": {
    "ExecuteTime": {
     "end_time": "2018-06-01T04:30:46.937216Z",
     "start_time": "2018-06-01T04:30:46.801751Z"
    }
   },
   "outputs": [],
   "source": [
    "df[df['iid'] == 1]"
   ]
  },
  {
   "cell_type": "code",
   "execution_count": null,
   "metadata": {
    "ExecuteTime": {
     "end_time": "2018-06-01T04:48:41.213308Z",
     "start_time": "2018-06-01T04:48:41.208056Z"
    }
   },
   "outputs": [],
   "source": [
    "gb = df.groupby(['wave', 'id', 'gender'])"
   ]
  },
  {
   "cell_type": "code",
   "execution_count": null,
   "metadata": {
    "ExecuteTime": {
     "end_time": "2018-06-01T04:48:46.626908Z",
     "start_time": "2018-06-01T04:48:46.586526Z"
    }
   },
   "outputs": [],
   "source": [
    "g = gb.groups[(1, 1, 0)]"
   ]
  },
  {
   "cell_type": "code",
   "execution_count": null,
   "metadata": {
    "ExecuteTime": {
     "end_time": "2018-06-01T04:48:47.478254Z",
     "start_time": "2018-06-01T04:48:47.469417Z"
    }
   },
   "outputs": [],
   "source": [
    "df.iloc[g].iid.values"
   ]
  },
  {
   "cell_type": "code",
   "execution_count": null,
   "metadata": {
    "ExecuteTime": {
     "end_time": "2018-06-01T02:11:27.748425Z",
     "start_time": "2018-06-01T02:11:27.741392Z"
    }
   },
   "outputs": [],
   "source": [
    "cols = ['iid', 'id', 'gender', 'idg', 'condtn', 'wave', 'round', 'partner', 'pid', 'match', 'attr', 'intel', 'amb', ]\n",
    "sub_df = df[cols]"
   ]
  },
  {
   "cell_type": "code",
   "execution_count": null,
   "metadata": {
    "ExecuteTime": {
     "end_time": "2018-06-01T02:16:21.123534Z",
     "start_time": "2018-06-01T02:16:21.074634Z"
    }
   },
   "outputs": [],
   "source": [
    "for i_wave in range(1, 22):\n",
    "    print(i_wave, np.unique(sub_df[df['wave'] == i_wave]['condtn'].values))"
   ]
  },
  {
   "cell_type": "code",
   "execution_count": null,
   "metadata": {
    "ExecuteTime": {
     "end_time": "2018-06-01T02:46:09.587441Z",
     "start_time": "2018-06-01T02:46:09.542967Z"
    }
   },
   "outputs": [],
   "source": [
    "df[['iid', 'pid', 'dec']]"
   ]
  },
  {
   "cell_type": "code",
   "execution_count": null,
   "metadata": {
    "ExecuteTime": {
     "end_time": "2018-05-31T05:50:28.320163Z",
     "start_time": "2018-05-31T05:50:28.207051Z"
    }
   },
   "outputs": [],
   "source": [
    "df[8375:8380]"
   ]
  },
  {
   "cell_type": "code",
   "execution_count": null,
   "metadata": {
    "ExecuteTime": {
     "end_time": "2018-05-31T05:50:29.783309Z",
     "start_time": "2018-05-31T05:50:29.777526Z"
    }
   },
   "outputs": [],
   "source": [
    "df.loc[8377, 'id'] = 22"
   ]
  },
  {
   "cell_type": "code",
   "execution_count": null,
   "metadata": {
    "ExecuteTime": {
     "end_time": "2018-05-31T05:50:30.309869Z",
     "start_time": "2018-05-31T05:50:30.296072Z"
    }
   },
   "outputs": [],
   "source": [
    "df.id = df.id.astype(np.int32)"
   ]
  },
  {
   "cell_type": "code",
   "execution_count": null,
   "metadata": {
    "ExecuteTime": {
     "end_time": "2018-05-31T05:50:55.172027Z",
     "start_time": "2018-05-31T05:50:55.063195Z"
    }
   },
   "outputs": [],
   "source": [
    "df.iloc[8377:8378]"
   ]
  },
  {
   "cell_type": "code",
   "execution_count": null,
   "metadata": {
    "ExecuteTime": {
     "end_time": "2018-05-31T05:53:55.367562Z",
     "start_time": "2018-05-31T05:53:55.069974Z"
    }
   },
   "outputs": [],
   "source": [
    "df[pd.isna(df['race'])]"
   ]
  },
  {
   "cell_type": "code",
   "execution_count": null,
   "metadata": {
    "ExecuteTime": {
     "end_time": "2018-05-31T06:19:18.146384Z",
     "start_time": "2018-05-31T06:19:17.812944Z"
    }
   },
   "outputs": [],
   "source": [
    "df[(df.wave == 1) & (df.match == 1)]"
   ]
  },
  {
   "cell_type": "code",
   "execution_count": null,
   "metadata": {
    "ExecuteTime": {
     "end_time": "2018-05-31T06:45:24.802011Z",
     "start_time": "2018-05-31T06:45:24.689316Z"
    }
   },
   "outputs": [],
   "source": [
    "df[(df.iid == 1) & (df.match == 1)]"
   ]
  },
  {
   "cell_type": "code",
   "execution_count": null,
   "metadata": {
    "ExecuteTime": {
     "end_time": "2018-05-31T06:49:13.577333Z",
     "start_time": "2018-05-31T06:49:13.443886Z"
    }
   },
   "outputs": [],
   "source": [
    "df[(df.iid == 1) & (df.dec == 1)]"
   ]
  },
  {
   "cell_type": "code",
   "execution_count": null,
   "metadata": {
    "ExecuteTime": {
     "end_time": "2018-05-31T06:49:48.859269Z",
     "start_time": "2018-05-31T06:49:48.754841Z"
    }
   },
   "outputs": [],
   "source": [
    "df[(df.iid == 12) & (df.dec == 1)]"
   ]
  },
  {
   "cell_type": "code",
   "execution_count": null,
   "metadata": {
    "ExecuteTime": {
     "end_time": "2018-05-31T06:46:09.799639Z",
     "start_time": "2018-05-31T06:46:09.681377Z"
    }
   },
   "outputs": [],
   "source": [
    "df[(df.pid == 1) & (df.match == 1)]"
   ]
  },
  {
   "cell_type": "code",
   "execution_count": null,
   "metadata": {
    "ExecuteTime": {
     "end_time": "2018-05-31T06:48:05.122943Z",
     "start_time": "2018-05-31T06:48:05.005751Z"
    }
   },
   "outputs": [],
   "source": [
    "df[(df.iid == 2) & (df.match == 1)]"
   ]
  },
  {
   "cell_type": "code",
   "execution_count": null,
   "metadata": {
    "ExecuteTime": {
     "end_time": "2018-05-31T06:48:20.043110Z",
     "start_time": "2018-05-31T06:48:19.939021Z"
    }
   },
   "outputs": [],
   "source": [
    "df[(df.pid == 2) & (df.match == 1)]"
   ]
  },
  {
   "cell_type": "code",
   "execution_count": null,
   "metadata": {},
   "outputs": [],
   "source": []
  }
 ],
 "metadata": {
  "kernelspec": {
   "display_name": "Python 3",
   "language": "python",
   "name": "python3"
  },
  "language_info": {
   "codemirror_mode": {
    "name": "ipython",
    "version": 3
   },
   "file_extension": ".py",
   "mimetype": "text/x-python",
   "name": "python",
   "nbconvert_exporter": "python",
   "pygments_lexer": "ipython3",
   "version": "3.6.5"
  }
 },
 "nbformat": 4,
 "nbformat_minor": 2
}
